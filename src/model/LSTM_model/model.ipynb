{
 "cells": [
  {
   "cell_type": "code",
   "execution_count": 26,
   "metadata": {},
   "outputs": [],
   "source": [
    "import numpy as np\n",
    "from keras.models import Sequential\n",
    "from keras.layers import LSTM, Dense, Embedding, Dropout\n",
    "from keras.preprocessing.text import Tokenizer\n",
    "from keras.preprocessing.sequence import pad_sequences\n",
    "from keras.layers import BatchNormalization"
   ]
  },
  {
   "cell_type": "code",
   "execution_count": 27,
   "metadata": {},
   "outputs": [],
   "source": [
    "total_words = 58\n",
    "max_sequence_length = 100"
   ]
  },
  {
   "cell_type": "code",
   "execution_count": null,
   "metadata": {},
   "outputs": [],
   "source": []
  },
  {
   "cell_type": "code",
   "execution_count": 28,
   "metadata": {},
   "outputs": [],
   "source": [
    "model = Sequential()\n",
    "model.add(Embedding(total_words, 300, input_length=max_sequence_length))\n",
    "model.add(LSTM(300, return_sequences=True))\n",
    "model.add(BatchNormalization())\n",
    "model.add(LSTM(300, return_sequences=True))\n",
    "model.add(BatchNormalization())\n",
    "model.add(LSTM(300, return_sequences=True))\n",
    "model.add(BatchNormalization())\n",
    "model.add(LSTM(300, return_sequences=True))\n",
    "model.add(BatchNormalization())\n",
    "model.add(LSTM(300, return_sequences=True))\n",
    "model.add(BatchNormalization())\n",
    "model.add(LSTM(300, return_sequences=True))\n",
    "model.add(BatchNormalization())\n",
    "model.add(LSTM(300, return_sequences=True))\n",
    "model.add(BatchNormalization())\n",
    "model.add(LSTM(300, return_sequences=True))\n",
    "model.add(BatchNormalization())\n",
    "model.add(LSTM(300, return_sequences=True))\n",
    "model.add(BatchNormalization())\n",
    "model.add(LSTM(300, return_sequences=True))\n",
    "model.add(BatchNormalization())\n",
    "model.add(Dense(total_words, activation='softmax'))"
   ]
  },
  {
   "cell_type": "code",
   "execution_count": 29,
   "metadata": {},
   "outputs": [],
   "source": [
    "model.compile(loss='categorical_crossentropy', optimizer='adam', metrics=['accuracy'])"
   ]
  },
  {
   "cell_type": "code",
   "execution_count": 30,
   "metadata": {},
   "outputs": [
    {
     "name": "stdout",
     "output_type": "stream",
     "text": [
      "Model: \"sequential_8\"\n",
      "_________________________________________________________________\n",
      " Layer (type)                Output Shape              Param #   \n",
      "=================================================================\n",
      " embedding_8 (Embedding)     (None, 100, 300)          17400     \n",
      "                                                                 \n",
      " lstm_24 (LSTM)              (None, 100, 300)          721200    \n",
      "                                                                 \n",
      " batch_normalization_16 (Bat  (None, 100, 300)         1200      \n",
      " chNormalization)                                                \n",
      "                                                                 \n",
      " lstm_25 (LSTM)              (None, 100, 300)          721200    \n",
      "                                                                 \n",
      " batch_normalization_17 (Bat  (None, 100, 300)         1200      \n",
      " chNormalization)                                                \n",
      "                                                                 \n",
      " lstm_26 (LSTM)              (None, 100, 300)          721200    \n",
      "                                                                 \n",
      " batch_normalization_18 (Bat  (None, 100, 300)         1200      \n",
      " chNormalization)                                                \n",
      "                                                                 \n",
      " lstm_27 (LSTM)              (None, 100, 300)          721200    \n",
      "                                                                 \n",
      " batch_normalization_19 (Bat  (None, 100, 300)         1200      \n",
      " chNormalization)                                                \n",
      "                                                                 \n",
      " lstm_28 (LSTM)              (None, 100, 300)          721200    \n",
      "                                                                 \n",
      " batch_normalization_20 (Bat  (None, 100, 300)         1200      \n",
      " chNormalization)                                                \n",
      "                                                                 \n",
      " lstm_29 (LSTM)              (None, 100, 300)          721200    \n",
      "                                                                 \n",
      " batch_normalization_21 (Bat  (None, 100, 300)         1200      \n",
      " chNormalization)                                                \n",
      "                                                                 \n",
      " lstm_30 (LSTM)              (None, 100, 300)          721200    \n",
      "                                                                 \n",
      " batch_normalization_22 (Bat  (None, 100, 300)         1200      \n",
      " chNormalization)                                                \n",
      "                                                                 \n",
      " lstm_31 (LSTM)              (None, 100, 300)          721200    \n",
      "                                                                 \n",
      " batch_normalization_23 (Bat  (None, 100, 300)         1200      \n",
      " chNormalization)                                                \n",
      "                                                                 \n",
      " lstm_32 (LSTM)              (None, 100, 300)          721200    \n",
      "                                                                 \n",
      " batch_normalization_24 (Bat  (None, 100, 300)         1200      \n",
      " chNormalization)                                                \n",
      "                                                                 \n",
      " lstm_33 (LSTM)              (None, 100, 300)          721200    \n",
      "                                                                 \n",
      " batch_normalization_25 (Bat  (None, 100, 300)         1200      \n",
      " chNormalization)                                                \n",
      "                                                                 \n",
      " dense_6 (Dense)             (None, 100, 58)           17458     \n",
      "                                                                 \n",
      "=================================================================\n",
      "Total params: 7,258,858\n",
      "Trainable params: 7,252,858\n",
      "Non-trainable params: 6,000\n",
      "_________________________________________________________________\n"
     ]
    }
   ],
   "source": [
    "model.summary()"
   ]
  },
  {
   "cell_type": "code",
   "execution_count": null,
   "metadata": {},
   "outputs": [],
   "source": []
  }
 ],
 "metadata": {
  "kernelspec": {
   "display_name": "base",
   "language": "python",
   "name": "python3"
  },
  "language_info": {
   "codemirror_mode": {
    "name": "ipython",
    "version": 3
   },
   "file_extension": ".py",
   "mimetype": "text/x-python",
   "name": "python",
   "nbconvert_exporter": "python",
   "pygments_lexer": "ipython3",
   "version": "3.10.9"
  },
  "orig_nbformat": 4
 },
 "nbformat": 4,
 "nbformat_minor": 2
}
